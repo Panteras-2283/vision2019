{
 "cells": [
  {
   "cell_type": "code",
   "execution_count": 5,
   "metadata": {},
   "outputs": [],
   "source": [
    "import pandas as pd\n",
    "import numpy as np\n",
    "import seaborn as sns\n",
    "import matplotlib.pyplot as plt\n",
    "from sklearn.ensemble import GradientBoostingRegressor\n",
    "from sklearn.externals import joblib\n",
    "\n",
    "sns.set()\n",
    "plt.rcParams['figure.figsize'] = (20,10)"
   ]
  },
  {
   "cell_type": "code",
   "execution_count": 6,
   "metadata": {},
   "outputs": [],
   "source": [
    "df = pd.read_csv('data/dataFinal.csv')\n",
    "df = df.drop('Unnamed: 0', axis=1)\n",
    "df.theta = df.theta.astype(float)\n",
    "df.yDistance = df.yDistance.astype(float)\n",
    "df.xDistance = df.xDistance.astype(float)\n",
    "df.columns = ['y', 'x', 'theta', 'width', 'height', 'center_x', 'center_y', 'aspect_ratio', 'height_ratio', 'y_diff']\n",
    "df2 = df.groupby(['y','x','theta']).agg({'width':'mean', 'height':'mean', 'center_x':'mean', 'center_y':'mean',\n",
    "                                  'aspect_ratio':'mean', 'height_ratio':'mean', 'y_diff':'mean'}).reset_index()"
   ]
  },
  {
   "cell_type": "code",
   "execution_count": 7,
   "metadata": {},
   "outputs": [],
   "source": [
    "X = df2.drop(['x', 'y', 'theta'], axis=1)\n",
    "theta_y = df2['theta']\n",
    "y_y = df2['y']\n",
    "x_y = df2['x']"
   ]
  },
  {
   "cell_type": "code",
   "execution_count": 8,
   "metadata": {},
   "outputs": [],
   "source": [
    "# load model from file\n",
    "theta_gbr = joblib.load(\"thetaGBR.joblib.dat\")\n",
    "x_gbr = joblib.load(\"xGBR.joblib.dat\")\n",
    "y_mlp = joblib.load(\"yMLP.joblib.dat\")"
   ]
  },
  {
   "cell_type": "code",
   "execution_count": 10,
   "metadata": {},
   "outputs": [
    {
     "data": {
      "text/plain": [
       "<matplotlib.axes._subplots.AxesSubplot at 0x20337930198>"
      ]
     },
     "execution_count": 10,
     "metadata": {},
     "output_type": "execute_result"
    },
    {
     "data": {
      "image/png": "[encoded data removed]",
      "text/plain": [
       "<Figure size 432x288 with 1 Axes>"
      ]
     },
     "metadata": {
      "needs_background": "light"
     },
     "output_type": "display_data"
    }
   ],
   "source": [
    "sns.scatterplot(theta_y, theta_gbr.predict(X))"
   ]
  },
  {
   "cell_type": "code",
   "execution_count": 29,
   "metadata": {},
   "outputs": [
    {
     "data": {
      "text/plain": [
       "55.30493203853427"
      ]
     },
     "execution_count": 29,
     "metadata": {},
     "output_type": "execute_result"
    }
   ],
   "source": [
    "from datetime import timedelta\n",
    "import datetime\n",
    "\n",
    "times = []\n",
    "for i in range(100):\n",
    "    tStart = datetime.datetime.now()\n",
    "    theta_gbr.predict(X)\n",
    "    x_gbr.predict(X)\n",
    "    y_mlp.predict(X)\n",
    "    elapsedTime = (datetime.datetime.now() - tStart).microseconds/1000\n",
    "    times = np.append(times, elapsedTime)\n",
    "mean = np.mean(times)\n",
    "framerate = 1000/mean\n",
    "framerate\n"
   ]
  },
  {
   "cell_type": "code",
   "execution_count": 1,
   "metadata": {},
   "outputs": [
    {
     "ename": "NameError",
     "evalue": "name 'mean' is not defined",
     "output_type": "error",
     "traceback": [
      "\u001b[1;31m---------------------------------------------------------------------------\u001b[0m",
      "\u001b[1;31mNameError\u001b[0m                                 Traceback (most recent call last)",
      "\u001b[1;32m<ipython-input-1-18a976ba6deb>\u001b[0m in \u001b[0;36m<module>\u001b[1;34m\u001b[0m\n\u001b[1;32m----> 1\u001b[1;33m \u001b[0mmean\u001b[0m\u001b[1;33m\u001b[0m\u001b[1;33m\u001b[0m\u001b[0m\n\u001b[0m",
      "\u001b[1;31mNameError\u001b[0m: name 'mean' is not defined"
     ]
    }
   ],
   "source": [
    "mean"
   ]
  },
  {
   "cell_type": "code",
   "execution_count": 11,
   "metadata": {},
   "outputs": [],
   "source": [
    "import pickle"
   ]
  },
  {
   "cell_type": "code",
   "execution_count": 16,
   "metadata": {},
   "outputs": [],
   "source": [
    "filename = 'models/xGBR.sav'\n",
    "pickle.dump(x_gbr, open(filename, 'wb'))"
   ]
  },
  {
   "cell_type": "code",
   "execution_count": null,
   "metadata": {},
   "outputs": [],
   "source": []
  }
 ],
 "metadata": {
  "kernelspec": {
   "display_name": "Python 3",
   "language": "python",
   "name": "python3"
  },
  "language_info": {
   "codemirror_mode": {
    "name": "ipython",
    "version": 3
   },
   "file_extension": ".py",
   "mimetype": "text/x-python",
   "name": "python",
   "nbconvert_exporter": "python",
   "pygments_lexer": "ipython3",
   "version": "3.7.2"
  }
 },
 "nbformat": 4,
 "nbformat_minor": 2
}
