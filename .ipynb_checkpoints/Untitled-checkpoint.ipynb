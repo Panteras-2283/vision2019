{
 "cells": [
  {
   "cell_type": "code",
   "execution_count": 1,
   "metadata": {},
   "outputs": [],
   "source": [
    "from pykalman import KalmanFilter\n",
    "import numpy as np\n",
    "import matplotlib.pyplot as plt\n",
    "import time"
   ]
  },
  {
   "cell_type": "code",
   "execution_count": 10,
   "metadata": {},
   "outputs": [],
   "source": [
    "kf1 = KalmanFilter(transition_matrices = transition_matrix,\n",
    "                  observation_matrices = observation_matrix,\n",
    "                  initial_state_mean = initial_state_mean)\n",
    "\n",
    "kf1 = kf1.em(measurements, n_iter=5)\n",
    "(smoothed_state_means, smoothed_state_covariances) = kf1.smooth(measurements)\n",
    "times = range(measurements.shape[0])"
   ]
  },
  {
   "cell_type": "code",
   "execution_count": 18,
   "metadata": {},
   "outputs": [
    {
     "name": "stdout",
     "output_type": "stream",
     "text": [
      "Time to build and train kf3: 7.088622808456421 seconds\n"
     ]
    }
   ],
   "source": [
    "kf3 = KalmanFilter(transition_matrices = transition_matrix,\n",
    "                  observation_matrices = observation_matrix,\n",
    "                  initial_state_mean = initial_state_mean,\n",
    "                  observation_covariance = 20*kf1.observation_covariance,\n",
    "                  em_vars=['transition_covariance', 'initial_state_covariance'])\n",
    "\n",
    "kf3 = kf3.em(measurements[:-n_real_time, :], n_iter=5)\n",
    "(filtered_state_means, filtered_state_covariances) = kf3.filter(measurements[:-n_real_time,:])\n",
    "\n",
    "print(\"Time to build and train kf3: %s seconds\" % (time.time() - time_before))"
   ]
  },
  {
   "cell_type": "code",
   "execution_count": 19,
   "metadata": {},
   "outputs": [
    {
     "name": "stdout",
     "output_type": "stream",
     "text": [
      "Time to update kf3: 0.0017151832580566406 seconds\n",
      "Time to update kf3: 0.0029892921447753906 seconds\n",
      "Time to update kf3: 0.0009980201721191406 seconds\n"
     ]
    }
   ],
   "source": [
    "x_now = filtered_state_means[-1, :]\n",
    "P_now = filtered_state_covariances[-1, :]\n",
    "x_new = np.zeros((n_real_time, filtered_state_means.shape[1]))\n",
    "i = 0\n",
    "\n",
    "for measurement in measurements[-n_real_time:, :]:\n",
    "    time_before = time.time()\n",
    "    (x_now, P_now) = kf3.filter_update(filtered_state_mean = x_now,\n",
    "                                       filtered_state_covariance = P_now,\n",
    "                                       observation = measurement)\n",
    "    print(\"Time to update kf3: %s seconds\" % (time.time() - time_before))\n",
    "    x_new[i, :] = x_now\n",
    "    i = i + 1"
   ]
  },
  {
   "cell_type": "code",
   "execution_count": 20,
   "metadata": {},
   "outputs": [
    {
     "data": {
      "image/png": "[encoded data removed]",
      "text/plain": [
       "<Figure size 432x288 with 1 Axes>"
      ]
     },
     "metadata": {
      "needs_background": "light"
     },
     "output_type": "display_data"
    }
   ],
   "source": [
    "plt.figure(3)\n",
    "old_times = range(measurements.shape[0] - n_real_time)\n",
    "new_times = range(measurements.shape[0]-n_real_time, measurements.shape[0])\n",
    "plt.plot(times, measurements[:, 0], 'bo',\n",
    "         times, measurements[:, 1], 'ro',\n",
    "         old_times, filtered_state_means[:, 0], 'b--',\n",
    "         old_times, filtered_state_means[:, 2], 'r--',\n",
    "         new_times, x_new[:, 0], 'b-',\n",
    "         new_times, x_new[:, 2], 'r-')\n",
    "\n",
    "plt.show()"
   ]
  }
 ],
 "metadata": {
  "kernelspec": {
   "display_name": "Python 3",
   "language": "python",
   "name": "python3"
  },
  "language_info": {
   "codemirror_mode": {
    "name": "ipython",
    "version": 3
   },
   "file_extension": ".py",
   "mimetype": "text/x-python",
   "name": "python",
   "nbconvert_exporter": "python",
   "pygments_lexer": "ipython3",
   "version": "3.7.2"
  }
 },
 "nbformat": 4,
 "nbformat_minor": 2
}
