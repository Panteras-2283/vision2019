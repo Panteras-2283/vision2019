{
 "cells": [
  {
   "cell_type": "code",
   "execution_count": 1,
   "metadata": {},
   "outputs": [],
   "source": [
    "from pykalman import KalmanFilter\n",
    "import numpy as np\n",
    "import matplotlib.pyplot as plt\n",
    "import time"
   ]
  },
  {
   "cell_type": "code",
   "execution_count": null,
   "metadata": {},
   "outputs": [],
   "source": [
    "measurements = np.asarray([(399,293),(403,299),(409,308),(416,315),(418,318),(420,323),(429,326),(423,328),(429,334),(431,337),(433,342),(434,352),(434,349),(433,350),(431,350),(430,349),(428,347),(427,345),(425,341),(429,338),(431,328),(410,313),(406,306),(402,299),(397,291),(391,294),(376,270),(372,272),(351,248),(336,244),(327,236),(307,220)])\n",
    "\n",
    "initial_state_mean = [measurements[0, 0],\n",
    "                      0,\n",
    "                      measurements[0, 1],\n",
    "                      0]\n",
    "\n",
    "transition_matrix = [[1, 1, 0, 0],\n",
    "                     [0, 1, 0, 0],\n",
    "                     [0, 0, 1, 1],\n",
    "                     [0, 0, 0, 1]]\n",
    "\n",
    "observation_matrix = [[1, 0, 0, 0],\n",
    "                      [0, 0, 1, 0]]"
   ]
  },
  {
   "cell_type": "code",
   "execution_count": 30,
   "metadata": {},
   "outputs": [],
   "source": [
    "kf1 = KalmanFilter(transition_matrices = transition_matrix,\n",
    "                  observation_matrices = observation_matrix,\n",
    "                  initial_state_mean = initial_state_mean)\n",
    "\n",
    "kf1 = kf1.em(measurements, n_iter=5)\n",
    "(smoothed_state_means, smoothed_state_covariances) = kf1.filter(measurements)\n",
    "times = range(measurements.shape[0])"
   ]
  },
  {
   "cell_type": "code",
   "execution_count": 33,
   "metadata": {},
   "outputs": [
    {
     "data": {
      "text/plain": [
       "array([[ 8.3267419 ,  5.92678367],\n",
       "       [ 5.92678367, 10.76677186]])"
      ]
     },
     "execution_count": 33,
     "metadata": {},
     "output_type": "execute_result"
    }
   ],
   "source": [
    "kf1.observation_covariance"
   ]
  },
  {
   "cell_type": "code",
   "execution_count": 27,
   "metadata": {},
   "outputs": [
    {
     "name": "stdout",
     "output_type": "stream",
     "text": [
      "Time to build and train kf3: 2569.9572083950043 seconds\n"
     ]
    }
   ],
   "source": [
    "kf3 = KalmanFilter(transition_matrices = transition_matrix,\n",
    "                  observation_matrices = observation_matrix,\n",
    "                  initial_state_mean = initial_state_mean,\n",
    "                  observation_covariance = 20*kf1.observation_covariance,\n",
    "                  em_vars=['transition_covariance', 'initial_state_covariance'])\n",
    "\n",
    "kf3 = kf3.em(measurements[:-n_real_time, :], n_iter=5)\n",
    "(filtered_state_means, filtered_state_covariances) = kf3.filter(measurements[:-n_real_time,:])\n",
    "\n",
    "print(\"Time to build and train kf3: %s seconds\" % (time.time() - time_before))"
   ]
  },
  {
   "cell_type": "code",
   "execution_count": 36,
   "metadata": {},
   "outputs": [
    {
     "data": {
      "text/plain": [
       "array([[[ 2.02290564,  4.28041448,  1.46559016,  6.04869511],\n",
       "        [ 4.28041448, 16.95426917,  5.32093238, 22.85918064],\n",
       "        [ 1.46559016,  5.32093238,  2.57448035,  7.14739623],\n",
       "        [ 6.04869511, 22.85918064,  7.14739623, 31.56477052]],\n",
       "\n",
       "       [[23.12775601, 17.09822456, 28.5600848 , 23.24972373],\n",
       "        [17.09822456, 15.29252949, 22.66992281, 19.69846225],\n",
       "        [28.5600848 , 22.66992281, 39.75089091, 31.14274613],\n",
       "        [23.24972373, 19.69846225, 31.14274613, 27.90554436]],\n",
       "\n",
       "       [[45.70132723, 19.95943169, 56.61740809, 25.94414048],\n",
       "        [19.95943169, 11.29513719, 25.60107756, 13.33341495],\n",
       "        [56.61740809, 25.60107756, 79.69662933, 35.94061903],\n",
       "        [25.94414048, 13.33341495, 35.94061903, 19.81038016]],\n",
       "\n",
       "       [[55.36663133, 17.66005287, 64.60865022, 20.88814929],\n",
       "        [17.66005287,  8.50424621, 20.75901507,  8.69261128],\n",
       "        [64.60865022, 20.75901507, 93.85190982, 30.40924815],\n",
       "        [20.88814929,  8.69261128, 30.40924815, 13.98329288]],\n",
       "\n",
       "       [[58.42226824, 15.35836478, 61.38018574, 15.69462727],\n",
       "        [15.35836478,  7.26440221, 15.71971254,  6.37590321],\n",
       "        [61.38018574, 15.71971254, 93.72641381, 24.62763524],\n",
       "        [15.69462727,  6.37590321, 24.62763524, 11.19772782]],\n",
       "\n",
       "       [[59.58275857, 13.94894004, 55.35810508, 12.2071255 ],\n",
       "        [13.94894004,  6.83034106, 12.32275664,  5.42559211],\n",
       "        [55.35810508, 12.32275664, 89.71626681, 20.81649861],\n",
       "        [12.2071255 ,  5.42559211, 20.81649861, 10.11881878]],\n",
       "\n",
       "       [[59.98346877, 13.14439166, 50.03471646, 10.27577098],\n",
       "        [13.14439166,  6.73723487, 10.42647728,  5.15049205],\n",
       "        [50.03471646, 10.42647728, 85.62347718, 18.67459055],\n",
       "        [10.27577098,  5.15049205, 18.67459055,  9.83860391]],\n",
       "\n",
       "       [[59.91584138, 12.70529443, 46.35542566,  9.40595195],\n",
       "        [12.70529443,  6.78635258,  9.55541352,  5.17234078],\n",
       "        [46.35542566,  9.55541352, 82.5170089 , 17.64788978],\n",
       "        [ 9.40595195,  5.17234078, 17.64788978,  9.90397362]],\n",
       "\n",
       "       [[59.67527843, 12.51378056, 44.21640289,  9.15333982],\n",
       "        [12.51378056,  6.89084776,  9.28465912,  5.29479349],\n",
       "        [44.21640289,  9.28465912, 80.56317778, 17.30246347],\n",
       "        [ 9.15333982,  5.29479349, 17.30246347, 10.09113893]],\n",
       "\n",
       "       [[59.48889364, 12.48645746, 43.19798842,  9.20306081],\n",
       "        [12.48645746,  7.00502094,  9.31226575,  5.42342329],\n",
       "        [43.19798842,  9.31226575, 79.58811344, 17.32478579],\n",
       "        [ 9.20306081,  5.42342329, 17.32478579, 10.28824983]],\n",
       "\n",
       "       [[59.44148807, 12.54929891, 42.87030829,  9.36002557],\n",
       "        [12.54929891,  7.10435603,  9.44961231,  5.52063466],\n",
       "        [42.87030829,  9.44961231, 79.292543  , 17.5005485 ],\n",
       "        [ 9.36002557,  5.52063466, 17.5005485 , 10.44562603]],\n",
       "\n",
       "       [[59.5152273 , 12.64457327, 42.89650267,  9.51971435],\n",
       "        [12.64457327,  7.17912531,  9.59443187,  5.57931134],\n",
       "        [42.89650267,  9.59443187, 79.37712193, 17.70044337],\n",
       "        [ 9.51971435,  5.57931134, 17.70044337, 10.55033916]],\n",
       "\n",
       "       [[59.65424982, 12.73643396, 43.05402363,  9.638935  ],\n",
       "        [12.73643396,  7.22928243,  9.70353663,  5.60651376],\n",
       "        [43.05402363,  9.70353663, 79.61218858, 17.86235101],\n",
       "        [ 9.638935  ,  5.60651376, 17.86235101, 10.60894994]],\n",
       "\n",
       "       [[59.80673195, 12.80859781, 43.22056483,  9.71054935],\n",
       "        [12.80859781,  7.25961857,  9.76883632,  5.61344446],\n",
       "        [43.22056483,  9.76883632, 79.85774331, 17.96909132],\n",
       "        [ 9.71054935,  5.61344446, 17.96909132, 10.6352116 ]],\n",
       "\n",
       "       [[59.94042959, 12.85789318, 43.34542428,  9.74413856],\n",
       "        [12.85789318,  7.27617162,  9.7987533 ,  5.61010247],\n",
       "        [43.34542428,  9.7987533 , 80.04996239, 18.02727071],\n",
       "        [ 9.74413856,  5.61010247, 18.02727071, 10.64263687]],\n",
       "\n",
       "       [[60.04223301, 12.88780363, 43.41982388,  9.75359332],\n",
       "        [12.88780363,  7.28424011,  9.80618014,  5.60332655],\n",
       "        [43.41982388,  9.80618014, 80.17468053, 18.05181025],\n",
       "        [ 9.75359332,  5.60332655, 18.05181025, 10.64126407]],\n",
       "\n",
       "       [[60.11181979, 12.90391742, 43.45391901,  9.75086114],\n",
       "        [12.90391742,  7.28767247,  9.80234757,  5.5968332 ],\n",
       "        [43.45391901,  9.80234757, 80.24249174, 18.05720062],\n",
       "        [ 9.75086114,  5.5968332 , 18.05720062, 10.6371852 ]],\n",
       "\n",
       "       [[60.15513023, 12.91145737, 43.46259211,  9.74393943],\n",
       "        [12.91145737,  7.28889654,  9.79480386,  5.59207874],\n",
       "        [43.46259211,  9.79480386, 80.27163926, 18.05402291],\n",
       "        [ 9.74393943,  5.59207874, 18.05402291, 10.63337933]],\n",
       "\n",
       "       [[60.17977944, 12.91432905, 43.45858939,  9.73713233],\n",
       "        [12.91432905,  7.2892535 ,  9.78760459,  5.58921697],\n",
       "        [43.45858939,  9.78760459, 80.27892278, 18.04857639],\n",
       "        [ 9.73713233,  5.58921697, 18.04857639, 10.6308545 ]],\n",
       "\n",
       "       [[60.19257676, 12.91503492, 43.45040198,  9.73213685],\n",
       "        [12.91503492,  7.28937727,  9.78232619,  5.58783201],\n",
       "        [43.45040198,  9.78232619, 80.27635296, 18.04385065],\n",
       "        [ 9.73213685,  5.58783201, 18.04385065, 10.62960786]],\n",
       "\n",
       "       [[60.1985972 , 12.91496413, 43.44257017,  9.72916367],\n",
       "        [12.91496413,  7.28950322,  9.77912935,  5.58738327],\n",
       "        [43.44257017,  9.77912935, 80.27101986, 18.04077184],\n",
       "        [ 9.72916367,  5.58738327, 18.04077184, 10.62926091]],\n",
       "\n",
       "       [[60.20115348, 12.9147658 , 43.43685331,  9.72777353],\n",
       "        [12.9147658 ,  7.28967695,  9.77755777,  5.58741739],\n",
       "        [43.43685331,  9.77755777, 80.26629028, 18.03922904],\n",
       "        [ 9.72777353,  5.58741739, 18.03922904, 10.62940147]],\n",
       "\n",
       "       [[60.20216365, 12.91466727, 43.43342918,  9.7273806 ],\n",
       "        [12.91466727,  7.28987508,  9.77702047,  5.58763131],\n",
       "        [43.43342918,  9.77702047, 80.26323025, 18.03874577],\n",
       "        [ 9.7273806 ,  5.58763131, 18.03874577, 10.62972229]],\n",
       "\n",
       "       [[60.20260355, 12.91469478, 43.4317887 ,  9.72749188],\n",
       "        [12.91469478,  7.29006405,  9.77702147,  5.58785927],\n",
       "        [43.4317887 ,  9.77702147, 80.26175292, 18.03883667],\n",
       "        [ 9.72749188,  5.58785927, 18.03883667, 10.63004469]],\n",
       "\n",
       "       [[60.2028925 , 12.91480331, 43.43127475,  9.72777905],\n",
       "        [12.91480331,  7.29022167,  9.7772284 ,  5.58803248],\n",
       "        [43.43127475,  9.7772284 , 80.26136301, 18.03914742],\n",
       "        [ 9.72777905,  5.58803248, 18.03914742, 10.63029172]],\n",
       "\n",
       "       [[60.20316487, 12.91494036, 43.4313379 ,  9.72806466],\n",
       "        [12.91494036,  7.2903401 ,  9.77745846,  5.58813829],\n",
       "        [43.4313379 ,  9.77745846, 80.26155035, 18.03947323],\n",
       "        [ 9.72806466,  5.58813829, 18.03947323, 10.63044931]],\n",
       "\n",
       "       [[60.20343473, 12.91506935, 43.43161204,  9.7282776 ],\n",
       "        [12.91506935,  7.29042167,  9.77763477,  5.58818942],\n",
       "        [43.43161204,  9.77763477, 80.26194373, 18.0397251 ],\n",
       "        [ 9.7282776 ,  5.58818942, 18.0397251 , 10.63053335]],\n",
       "\n",
       "       [[60.20368159, 12.91517257, 43.43189793,  9.72840779],\n",
       "        [12.91517257,  7.29047376,  9.77774186,  5.58820531],\n",
       "        [43.43189793,  9.77774186, 80.26233141, 18.03988494],\n",
       "        [ 9.72840779,  5.58820531, 18.03988494, 10.63056826]],\n",
       "\n",
       "       [[60.20388662, 12.91524621, 43.43211381,  9.72847222],\n",
       "        [12.91524621,  7.29050482,  9.7777923 ,  5.58820295],\n",
       "        [43.43211381,  9.7777923 , 80.2626247 , 18.03996847],\n",
       "        [ 9.72847222,  5.58820295, 18.03996847, 10.63057585]]])"
      ]
     },
     "execution_count": 36,
     "metadata": {},
     "output_type": "execute_result"
    }
   ],
   "source": [
    "filtered_state_covariances"
   ]
  },
  {
   "cell_type": "code",
   "execution_count": 28,
   "metadata": {},
   "outputs": [
    {
     "name": "stdout",
     "output_type": "stream",
     "text": [
      "Time to update kf3: 0.001995086669921875 seconds\n",
      "Time to update kf3: 0.0009970664978027344 seconds\n",
      "Time to update kf3: 0.0019440650939941406 seconds\n"
     ]
    }
   ],
   "source": [
    "x_now = filtered_state_means[-1, :]\n",
    "P_now = filtered_state_covariances[-1, :]\n",
    "x_new = np.zeros((n_real_time, filtered_state_means.shape[1]))\n",
    "i = 0\n",
    "\n",
    "for measurement in measurements[-n_real_time:, :]:\n",
    "    time_before = time.time()\n",
    "    (x_now, P_now) = kf3.filter_update(filtered_state_mean = x_now,\n",
    "                                       filtered_state_covariance = P_now,\n",
    "                                       observation = measurement)\n",
    "    print(\"Time to update kf3: %s seconds\" % (time.time() - time_before))\n",
    "    x_new[i, :] = x_now\n",
    "    i = i + 1"
   ]
  },
  {
   "cell_type": "code",
   "execution_count": 37,
   "metadata": {},
   "outputs": [
    {
     "data": {
      "text/plain": [
       "array([[60.20388662, 12.91524621, 43.43211381,  9.72847222],\n",
       "       [12.91524621,  7.29050482,  9.7777923 ,  5.58820295],\n",
       "       [43.43211381,  9.7777923 , 80.2626247 , 18.03996847],\n",
       "       [ 9.72847222,  5.58820295, 18.03996847, 10.63057585]])"
      ]
     },
     "execution_count": 37,
     "metadata": {},
     "output_type": "execute_result"
    }
   ],
   "source": [
    "P_now = filtered_state_covariances[-1, :]\n",
    "P_now"
   ]
  },
  {
   "cell_type": "code",
   "execution_count": 29,
   "metadata": {},
   "outputs": [
    {
     "data": {
      "image/png": "[encoded data removed]",
      "text/plain": [
       "<Figure size 432x288 with 1 Axes>"
      ]
     },
     "metadata": {
      "needs_background": "light"
     },
     "output_type": "display_data"
    }
   ],
   "source": [
    "plt.figure(3)\n",
    "old_times = range(measurements.shape[0] - n_real_time)\n",
    "new_times = range(measurements.shape[0]-n_real_time, measurements.shape[0])\n",
    "plt.plot(times, measurements[:, 0], 'bo',\n",
    "         times, measurements[:, 1], 'ro',\n",
    "         old_times, filtered_state_means[:, 0], 'b--',\n",
    "         old_times, filtered_state_means[:, 2], 'r--',\n",
    "         new_times, x_new[:, 0], 'b-',\n",
    "         new_times, x_new[:, 2], 'r-')\n",
    "\n",
    "plt.show()"
   ]
  }
 ],
 "metadata": {
  "kernelspec": {
   "display_name": "Python 3",
   "language": "python",
   "name": "python3"
  },
  "language_info": {
   "codemirror_mode": {
    "name": "ipython",
    "version": 3
   },
   "file_extension": ".py",
   "mimetype": "text/x-python",
   "name": "python",
   "nbconvert_exporter": "python",
   "pygments_lexer": "ipython3",
   "version": "3.7.2"
  }
 },
 "nbformat": 4,
 "nbformat_minor": 2
}
